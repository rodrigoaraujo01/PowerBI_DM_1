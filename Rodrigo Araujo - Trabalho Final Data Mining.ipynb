{
 "cells": [
  {
   "cell_type": "markdown",
   "metadata": {},
   "source": [
    "Remove: https://www.kaggle.com/meddulla/predicting-survival\n",
    "\n",
    "Categorical encoding\n",
    "* https://pbpython.com/categorical-encoding.html\n",
    "\n",
    "Feature selection: \n",
    "* https://towardsdatascience.com/feature-selection-with-pandas-e3690ad8504b\n",
    "* https://towardsdatascience.com/feature-selection-techniques-in-machine-learning-with-python-f24e7da3f36e\n",
    "* https://towardsdatascience.com/feature-selection-techniques-for-classification-and-python-tips-for-their-application-10c0ddd7918b\n",
    "\n",
    "Smote:\n",
    "* https://www.kaggle.com/rafjaa/resampling-strategies-for-imbalanced-datasets"
   ]
  },
  {
   "cell_type": "markdown",
   "metadata": {},
   "source": [
    "# Trabalho Final Data Mining\n",
    "\n",
    "*Turma Bi Master 2019.3*\n",
    "\n",
    "**Professora**: Manoela Kohler\n",
    "\n",
    "**Aluno**: Rodrigo Moreira Araújo\n",
    "\n",
    "**Matrícula**: 192.190.075"
   ]
  },
  {
   "cell_type": "markdown",
   "metadata": {},
   "source": [
    "## Índice:\n",
    "\n",
    "1. [Descrição do problema](#descricao)\n",
    "2. [Análise Exploratória](#analise-exp)\n",
    "    1. [Importação](#2-importacao)\n",
    "    2. [Criação dos DataFrames](#2-criacao)\n",
    "3. [Valores faltantes](#faltantes)\n",
    "    1. [Categóricos](#3-categoricos)\n",
    "    2. [Numéricos](#3-numericos)\n",
    "    3. [Conversão de colunas categóricas](#3-conversao-categoricas)\n",
    "    4. [Normalização dos dados](#3-normalizacao)\n",
    "4. [Atributos desnecessários](#desnecessarios)\n",
    "    1. [Univariate filter methods](#4-univariate)\n",
    "    2. [Análise através de correlação](#4-correlacao)\n",
    "5. [Balanceamento](#balanceamento)"
   ]
  },
  {
   "cell_type": "markdown",
   "metadata": {},
   "source": [
    "## 1. Descrição do problema <a class=\"anchor\" id=\"descricao\"></a>\n",
    "\n",
    "**Problema de classificação**\n",
    "\n",
    "* 27 atributos numéricos e categóricos que descrevem o estado de saúde de cavalos; \n",
    "* Três classes de saída que indicam o que aconteceu com o cavalo: morreu, viveu ou se foi submetido à eutanásia. A ideia é prever se um cavalo pode sobreviver ou não baseado nas condições médicas passadas."
   ]
  },
  {
   "cell_type": "markdown",
   "metadata": {},
   "source": [
    "## 2. Análise exploratória dos dados <a class=\"anchor\" id=\"analise-exp\"></a>\n",
    "\n",
    "#### A. Importação dos módulos necessários <a class=\"anchor\" id=\"2-importacao\"></a>"
   ]
  },
  {
   "cell_type": "code",
   "execution_count": 4,
   "metadata": {},
   "outputs": [],
   "source": [
    "%matplotlib inline\n",
    "import numpy as np\n",
    "import pandas as pd\n",
    "import matplotlib.pyplot as plt\n",
    "\n",
    "# Para visualização com Seaborn\n",
    "import seaborn as sns\n",
    "\n",
    "# Para a seleção de atributos relevantes\n",
    "from sklearn.feature_selection import SelectKBest\n",
    "from sklearn.feature_selection import chi2, f_classif, mutual_info_classif\n",
    "\n",
    "# Para balanceamento do conjunto através do SMOTE\n",
    "# Descomentar a linha abaixo para instalar a biblioteca imblean\n",
    "# !pip3 install imblearn\n",
    "from imblearn.over_sampling import SMOTE\n",
    "from sklearn.decomposition import PCA\n",
    "\n",
    "from sklearn.metrics import accuracy_score, confusion_matrix, precision_score, recall_score"
   ]
  },
  {
   "cell_type": "markdown",
   "metadata": {},
   "source": [
    "#### B. Criação dos DataFrames de treino (df) e  teste (df_test) <a class=\"anchor\" id=\"2-criacao\"></a>"
   ]
  },
  {
   "cell_type": "code",
   "execution_count": 5,
   "metadata": {
    "scrolled": false
   },
   "outputs": [
    {
     "data": {
      "text/html": [
       "<div>\n",
       "<style scoped>\n",
       "    .dataframe tbody tr th:only-of-type {\n",
       "        vertical-align: middle;\n",
       "    }\n",
       "\n",
       "    .dataframe tbody tr th {\n",
       "        vertical-align: top;\n",
       "    }\n",
       "\n",
       "    .dataframe thead th {\n",
       "        text-align: right;\n",
       "    }\n",
       "</style>\n",
       "<table border=\"1\" class=\"dataframe\">\n",
       "  <thead>\n",
       "    <tr style=\"text-align: right;\">\n",
       "      <th></th>\n",
       "      <th>surgery</th>\n",
       "      <th>age</th>\n",
       "      <th>hospital_number</th>\n",
       "      <th>rectal_temp</th>\n",
       "      <th>pulse</th>\n",
       "      <th>respiratory_rate</th>\n",
       "      <th>temp_of_extremities</th>\n",
       "      <th>peripheral_pulse</th>\n",
       "      <th>mucous_membrane</th>\n",
       "      <th>capillary_refill_time</th>\n",
       "      <th>...</th>\n",
       "      <th>packed_cell_volume</th>\n",
       "      <th>total_protein</th>\n",
       "      <th>abdomo_appearance</th>\n",
       "      <th>abdomo_protein</th>\n",
       "      <th>outcome</th>\n",
       "      <th>surgical_lesion</th>\n",
       "      <th>lesion_1</th>\n",
       "      <th>lesion_2</th>\n",
       "      <th>lesion_3</th>\n",
       "      <th>cp_data</th>\n",
       "    </tr>\n",
       "  </thead>\n",
       "  <tbody>\n",
       "    <tr>\n",
       "      <th>0</th>\n",
       "      <td>no</td>\n",
       "      <td>adult</td>\n",
       "      <td>530101</td>\n",
       "      <td>38.5</td>\n",
       "      <td>66.0</td>\n",
       "      <td>28.0</td>\n",
       "      <td>cool</td>\n",
       "      <td>reduced</td>\n",
       "      <td>NaN</td>\n",
       "      <td>more_3_sec</td>\n",
       "      <td>...</td>\n",
       "      <td>45.0</td>\n",
       "      <td>8.4</td>\n",
       "      <td>NaN</td>\n",
       "      <td>NaN</td>\n",
       "      <td>died</td>\n",
       "      <td>no</td>\n",
       "      <td>11300</td>\n",
       "      <td>0</td>\n",
       "      <td>0</td>\n",
       "      <td>no</td>\n",
       "    </tr>\n",
       "    <tr>\n",
       "      <th>1</th>\n",
       "      <td>yes</td>\n",
       "      <td>adult</td>\n",
       "      <td>534817</td>\n",
       "      <td>39.2</td>\n",
       "      <td>88.0</td>\n",
       "      <td>20.0</td>\n",
       "      <td>NaN</td>\n",
       "      <td>NaN</td>\n",
       "      <td>pale_cyanotic</td>\n",
       "      <td>less_3_sec</td>\n",
       "      <td>...</td>\n",
       "      <td>50.0</td>\n",
       "      <td>85.0</td>\n",
       "      <td>cloudy</td>\n",
       "      <td>2.0</td>\n",
       "      <td>euthanized</td>\n",
       "      <td>no</td>\n",
       "      <td>2208</td>\n",
       "      <td>0</td>\n",
       "      <td>0</td>\n",
       "      <td>no</td>\n",
       "    </tr>\n",
       "    <tr>\n",
       "      <th>2</th>\n",
       "      <td>no</td>\n",
       "      <td>adult</td>\n",
       "      <td>530334</td>\n",
       "      <td>38.3</td>\n",
       "      <td>40.0</td>\n",
       "      <td>24.0</td>\n",
       "      <td>normal</td>\n",
       "      <td>normal</td>\n",
       "      <td>pale_pink</td>\n",
       "      <td>less_3_sec</td>\n",
       "      <td>...</td>\n",
       "      <td>33.0</td>\n",
       "      <td>6.7</td>\n",
       "      <td>NaN</td>\n",
       "      <td>NaN</td>\n",
       "      <td>lived</td>\n",
       "      <td>no</td>\n",
       "      <td>0</td>\n",
       "      <td>0</td>\n",
       "      <td>0</td>\n",
       "      <td>yes</td>\n",
       "    </tr>\n",
       "    <tr>\n",
       "      <th>3</th>\n",
       "      <td>yes</td>\n",
       "      <td>young</td>\n",
       "      <td>5290409</td>\n",
       "      <td>39.1</td>\n",
       "      <td>164.0</td>\n",
       "      <td>84.0</td>\n",
       "      <td>cold</td>\n",
       "      <td>normal</td>\n",
       "      <td>dark_cyanotic</td>\n",
       "      <td>more_3_sec</td>\n",
       "      <td>...</td>\n",
       "      <td>48.0</td>\n",
       "      <td>7.2</td>\n",
       "      <td>serosanguious</td>\n",
       "      <td>5.3</td>\n",
       "      <td>died</td>\n",
       "      <td>yes</td>\n",
       "      <td>2208</td>\n",
       "      <td>0</td>\n",
       "      <td>0</td>\n",
       "      <td>yes</td>\n",
       "    </tr>\n",
       "    <tr>\n",
       "      <th>4</th>\n",
       "      <td>no</td>\n",
       "      <td>adult</td>\n",
       "      <td>530255</td>\n",
       "      <td>37.3</td>\n",
       "      <td>104.0</td>\n",
       "      <td>35.0</td>\n",
       "      <td>NaN</td>\n",
       "      <td>NaN</td>\n",
       "      <td>dark_cyanotic</td>\n",
       "      <td>more_3_sec</td>\n",
       "      <td>...</td>\n",
       "      <td>74.0</td>\n",
       "      <td>7.4</td>\n",
       "      <td>NaN</td>\n",
       "      <td>NaN</td>\n",
       "      <td>died</td>\n",
       "      <td>no</td>\n",
       "      <td>4300</td>\n",
       "      <td>0</td>\n",
       "      <td>0</td>\n",
       "      <td>no</td>\n",
       "    </tr>\n",
       "  </tbody>\n",
       "</table>\n",
       "<p>5 rows × 28 columns</p>\n",
       "</div>"
      ],
      "text/plain": [
       "  surgery    age  hospital_number  rectal_temp  pulse  respiratory_rate  \\\n",
       "0      no  adult           530101         38.5   66.0              28.0   \n",
       "1     yes  adult           534817         39.2   88.0              20.0   \n",
       "2      no  adult           530334         38.3   40.0              24.0   \n",
       "3     yes  young          5290409         39.1  164.0              84.0   \n",
       "4      no  adult           530255         37.3  104.0              35.0   \n",
       "\n",
       "  temp_of_extremities peripheral_pulse mucous_membrane capillary_refill_time  \\\n",
       "0                cool          reduced             NaN            more_3_sec   \n",
       "1                 NaN              NaN   pale_cyanotic            less_3_sec   \n",
       "2              normal           normal       pale_pink            less_3_sec   \n",
       "3                cold           normal   dark_cyanotic            more_3_sec   \n",
       "4                 NaN              NaN   dark_cyanotic            more_3_sec   \n",
       "\n",
       "    ...    packed_cell_volume total_protein abdomo_appearance abdomo_protein  \\\n",
       "0   ...                  45.0           8.4               NaN            NaN   \n",
       "1   ...                  50.0          85.0            cloudy            2.0   \n",
       "2   ...                  33.0           6.7               NaN            NaN   \n",
       "3   ...                  48.0           7.2     serosanguious            5.3   \n",
       "4   ...                  74.0           7.4               NaN            NaN   \n",
       "\n",
       "      outcome  surgical_lesion lesion_1 lesion_2  lesion_3  cp_data  \n",
       "0        died               no    11300        0         0       no  \n",
       "1  euthanized               no     2208        0         0       no  \n",
       "2       lived               no        0        0         0      yes  \n",
       "3        died              yes     2208        0         0      yes  \n",
       "4        died               no     4300        0         0       no  \n",
       "\n",
       "[5 rows x 28 columns]"
      ]
     },
     "execution_count": 5,
     "metadata": {},
     "output_type": "execute_result"
    }
   ],
   "source": [
    "# Criação dos DataFrames de treino e teste\n",
    "\n",
    "df = pd.read_csv(\"horse.csv\")\n",
    "df_test = pd.read_csv(\"horseTest.csv\")\n",
    "\n",
    "df.head()"
   ]
  },
  {
   "cell_type": "markdown",
   "metadata": {},
   "source": [
    "## 3. Verificação de valores faltantes (*missing values*) <a class=\"anchor\" id=\"faltantes\"></a>"
   ]
  },
  {
   "cell_type": "markdown",
   "metadata": {},
   "source": [
    "Análise de dados faltantes para o DataFrame de treino"
   ]
  },
  {
   "cell_type": "code",
   "execution_count": 6,
   "metadata": {},
   "outputs": [
    {
     "data": {
      "text/plain": [
       "rectal_temp              239\n",
       "pulse                    275\n",
       "respiratory_rate         241\n",
       "temp_of_extremities      243\n",
       "peripheral_pulse         230\n",
       "mucous_membrane          252\n",
       "capillary_refill_time    267\n",
       "pain                     244\n",
       "peristalsis              255\n",
       "abdominal_distention     243\n",
       "nasogastric_tube         195\n",
       "nasogastric_reflux       193\n",
       "nasogastric_reflux_ph     53\n",
       "rectal_exam_feces        197\n",
       "abdomen                  181\n",
       "packed_cell_volume       270\n",
       "total_protein            266\n",
       "abdomo_appearance        134\n",
       "abdomo_protein           101\n",
       "dtype: int64"
      ]
     },
     "execution_count": 6,
     "metadata": {},
     "output_type": "execute_result"
    }
   ],
   "source": [
    "# Extrai o número total de linhas do Dataframe\n",
    "total_lines = df.shape[0]\n",
    "\n",
    "# Avalia o número de linhas preenchidas por coluna\n",
    "cols_count = df.count(axis=0)\n",
    "\n",
    "# Seleciona apenas as colunas com dados faltantes\n",
    "missing_cols = cols_count[cols_count != total_lines]\n",
    "\n",
    "# Verifica o tipo das colunas com dados faltantes\n",
    "col_types = df[missing_cols.index].dtypes\n",
    "\n",
    "# Segrega as colunas de float e de string\n",
    "float_cols = col_types[col_types == \"float64\"]\n",
    "str_cols = col_types[col_types == \"object\"]\n",
    "\n",
    "# Lista de colunas faltantes com total de valores\n",
    "missing_cols"
   ]
  },
  {
   "cell_type": "markdown",
   "metadata": {},
   "source": [
    "Análise de dados faltantes para o DataFrame de teste"
   ]
  },
  {
   "cell_type": "code",
   "execution_count": 7,
   "metadata": {},
   "outputs": [
    {
     "data": {
      "text/plain": [
       "rectal_temp              73\n",
       "pulse                    84\n",
       "respiratory_rate         73\n",
       "temp_of_extremities      76\n",
       "peripheral_pulse         70\n",
       "mucous_membrane          79\n",
       "capillary_refill_time    85\n",
       "pain                     77\n",
       "peristalsis              79\n",
       "abdominal_distention     77\n",
       "nasogastric_tube         66\n",
       "nasogastric_reflux       61\n",
       "nasogastric_reflux_ph    14\n",
       "rectal_exam_feces        55\n",
       "abdomen                  54\n",
       "packed_cell_volume       82\n",
       "total_protein            79\n",
       "abdomo_appearance        45\n",
       "abdomo_protein           29\n",
       "dtype: int64"
      ]
     },
     "execution_count": 7,
     "metadata": {},
     "output_type": "execute_result"
    }
   ],
   "source": [
    "# Extrai o número total de linhas do Dataframe test\n",
    "total_lines = df_test.shape[0]\n",
    "\n",
    "# Avalia o número de linhas preenchidas por coluna\n",
    "cols_count = df_test.count(axis=0)\n",
    "\n",
    "# Seleciona apenas as colunas com dados faltantes\n",
    "missing_cols_test = cols_count[cols_count != total_lines]\n",
    "\n",
    "# Lista de colunas com total de valores\n",
    "missing_cols_test"
   ]
  },
  {
   "cell_type": "code",
   "execution_count": 8,
   "metadata": {},
   "outputs": [
    {
     "name": "stdout",
     "output_type": "stream",
     "text": [
      "Todas estão contidas\n"
     ]
    }
   ],
   "source": [
    "# Avalia se as colunas com dados faltantes do DataFrame de teste \n",
    "# estão contidas no DataFrame de treino\n",
    "contained = True\n",
    "for x in missing_cols_test.index:\n",
    "    contained = contained and (x in missing_cols.index)\n",
    "if contained:\n",
    "    print(\"Todas estão contidas\")\n",
    "else:\n",
    "    print(\"Não estão contidas\")"
   ]
  },
  {
   "cell_type": "markdown",
   "metadata": {},
   "source": [
    "#### A. Preenchimento dos valores faltantes das colunas categóricas <a class=\"anchor\" id=\"3-categoricos\"></a>"
   ]
  },
  {
   "cell_type": "code",
   "execution_count": 9,
   "metadata": {
    "scrolled": true
   },
   "outputs": [],
   "source": [
    "# Extrai a moda de cada uma das colunas de string com valores faltantes\n",
    "col_modes = df[str_cols.index].mode()\n",
    "df[col_modes.columns] = df[col_modes.columns].fillna(col_modes.iloc[0], axis=0)\n",
    "\n",
    "test_col_modes = df[str_cols.index].mode()\n",
    "df_test[test_col_modes.columns] = df_test[test_col_modes.columns].fillna(test_col_modes.iloc[0], axis=0)\n",
    "\n",
    "# A linha abaixo pode ser descomentada para confirmar que as colunas com\n",
    "# valores de string foram preenchidas\n",
    "\n",
    "# df[col_modes.columns].info()"
   ]
  },
  {
   "cell_type": "markdown",
   "metadata": {},
   "source": [
    "#### B. Preenchimento dos valores faltantes das colunas numéricas  <a class=\"anchor\" id=\"3-numericos\"></a>"
   ]
  },
  {
   "cell_type": "code",
   "execution_count": 10,
   "metadata": {},
   "outputs": [
    {
     "data": {
      "image/png": "[encoded data removed]",
      "text/plain": [
       "<matplotlib.figure.Figure at 0x283db683048>"
      ]
     },
     "metadata": {},
     "output_type": "display_data"
    }
   ],
   "source": [
    "# Análise das distribuições dos valores faltantes do tipo float\n",
    "def plot_histograms(dataframe, cols):\n",
    "    fig = plt.figure(figsize=(12,8))\n",
    "    for i, col in enumerate(cols.index):\n",
    "        plt.subplot(2, 4, i+1)\n",
    "        plt.title(col)\n",
    "        vals = np.array(dataframe[col].copy().dropna().values)\n",
    "        # Plota o histograma\n",
    "        nhist, bins, patches = plt.hist(vals, bins=20, density=True)\n",
    "        # Cálculo dos parâmetros da distribuição normal\n",
    "        mean = vals.mean() \n",
    "        std = vals.std()  \n",
    "        y = ((1/(np.sqrt(2*np.pi)*std))*np.exp(-0.5*(1/std*(bins-mean))**2))\n",
    "        # Plota a gaussiana que melhor ajusta o histograma\n",
    "        plt.plot(bins, y, '--')\n",
    "\n",
    "plot_histograms(df, float_cols)"
   ]
  },
  {
   "cell_type": "markdown",
   "metadata": {},
   "source": [
    "A análise dos histogramas permite concluir que as colunas `rectal_temp`, `packed_cell_volume`, `pulse` e `respiratory_rate` se aproximam razoavelmente de distribuições normais. Assim, os valores faltantes podem ser preenchidos com a mediana.\n",
    "\n",
    "Para as outras três colunas (`nasograstric_reflux_ph`, `total_protein`, `abdomo_protein`), será usada a moda."
   ]
  },
  {
   "cell_type": "code",
   "execution_count": 11,
   "metadata": {},
   "outputs": [],
   "source": [
    "normal_float_cols = [\"rectal_temp\",\"packed_cell_volume\",\"pulse\",\"respiratory_rate\"]\n",
    "other_float_cols = [\"nasogastric_reflux_ph\", \"total_protein\", \"abdomo_protein\"]\n",
    "for col in normal_float_cols:\n",
    "    df[col] = df[col].fillna(df[col].median())\n",
    "    df_test[col] = df_test[col].fillna(df_test[col].median())\n",
    "for col in other_float_cols:\n",
    "    df[col] = df[col].fillna(df[col].mode()[0])\n",
    "    df_test[col] = df_test[col].fillna(df_test[col].mode()[0])\n",
    "\n",
    "# A linha abaixo pode ser descomentada para confirmar que as colunas com\n",
    "# valores float foram preenchidas\n",
    "\n",
    "# df[float_cols.index].info()"
   ]
  },
  {
   "cell_type": "code",
   "execution_count": 12,
   "metadata": {},
   "outputs": [],
   "source": [
    "# As linhas abaixo podem ser descomentadas para mostrar que\n",
    "# os dois dataframes encontram-se preenchidos\n",
    "\n",
    "# df.info()\n",
    "# df_test.info()"
   ]
  },
  {
   "cell_type": "markdown",
   "metadata": {},
   "source": [
    "#### C. Tratamento de colunas categóricas <a class=\"anchor\" id=\"3-conversao-categoricas\"></a>"
   ]
  },
  {
   "cell_type": "code",
   "execution_count": 13,
   "metadata": {},
   "outputs": [],
   "source": [
    "# Extração das colunas que possuem dados categóricos\n",
    "categorical_cols = df.select_dtypes(include=['object']).columns\n",
    "\n",
    "# O for abaixo serve apenas para debug\n",
    "\n",
    "# for col in categorical_cols:\n",
    "#     print(col)\n",
    "#     print(df[col].value_counts(), \"\\n\")"
   ]
  },
  {
   "cell_type": "markdown",
   "metadata": {},
   "source": [
    "As colunas `surgery`, `surgical_lesion`, `cp_data`, `age`, `capillary_refill_time`, `temp_of_extremities`, `peripheral_pulse`, `capillary_refill_time`, `pain`, `peristalsis`, `abdominal_distention`, `nasogastric_tube`, `nasogastric_reflux`, `rectal_exam_feces`, `mucous_membrane`, `abdomen`, `abdomo_appearance` possuem valores categóricos.\n",
    "\n",
    "Porém, a sua conversão pode ser feita para valores numéricos de forma diferente:\n",
    "* **Colunas `surgery`, `surgical_lesion`, `cp_data`**: contém apenas `yes` e `no`, então podem ser diretamente convertidas para 0 e 1;\n",
    "* **Colunas `age`, `capillary_refill_time`, `temp_of_extremities`, `peripheral_pulse`, `capillary_refill_time`, `pain`, `peristalsis`, `abdominal_distention`, `nasogastric_tube`, `nasogastric_reflux`, `rectal_exam_feces`**: contém valores sequenciais, então podem ser convertidas para inteiros em sequência;\n",
    "* **Colunas `mucous_membrane`, `abdomen`, `abdomo_appearance`**: contém categorias e serão convertidas com *One Hot Encoding*"
   ]
  },
  {
   "cell_type": "code",
   "execution_count": 14,
   "metadata": {
    "scrolled": true
   },
   "outputs": [],
   "source": [
    "for curr_df in [df, df_test]:\n",
    "    yes_no_cols = [\"surgery\", \"surgical_lesion\", \"cp_data\"]\n",
    "    curr_df[yes_no_cols] = curr_df[yes_no_cols].replace({\"yes\":1,\"no\":0})\n",
    "    curr_df[\"age\"] = curr_df[\"age\"].replace({\"young\":0, \"adult\":1})\n",
    "    curr_df[\"capillary_refill_time\"] = curr_df[\"capillary_refill_time\"].replace({1:0, 2:1})\n",
    "\n",
    "    curr_df[\"temp_of_extremities\"] = curr_df[\"temp_of_extremities\"].replace({\"cold\":0, \"normal\":1, \"cool\":2, \"warm\":3})\n",
    "    curr_df[\"peripheral_pulse\"] = curr_df[\"peripheral_pulse\"].replace({\"absent\":0, \"reduced\":1, \"normal\":2, \"increased\":3})\n",
    "    curr_df[\"capillary_refill_time\"] = curr_df[\"capillary_refill_time\"].replace({\"less_3_sec\":0, \"3\":1, \"more_3_sec\":2})\n",
    "    curr_df[\"pain\"] = curr_df[\"pain\"].replace({\"alert\":0, \"depressed\":1, \"mild_pain\":2, \"severe_pain\":3, \"extreme_pain\":4})\n",
    "    curr_df[\"peristalsis\"] = curr_df[\"peristalsis\"].replace({\"hypermotile\":0, \"normal\":1, \"hypomotile\":2, \"absent\":3})\n",
    "    curr_df[\"abdominal_distention\"] = curr_df[\"abdominal_distention\"].replace({\"none\":0, \"moderate\":1, \"slight\":2, \"severe\":3})\n",
    "    curr_df[\"nasogastric_tube\"] = curr_df[\"nasogastric_tube\"].replace({\"none\":0, \"slight\":1, \"significant\":2})\n",
    "    curr_df[\"nasogastric_reflux\"] = curr_df[\"nasogastric_reflux\"].replace({\"none\":0, \"less_1_liter\":1, \"more_1_liter\":2})\n",
    "    curr_df[\"rectal_exam_feces\"] = curr_df[\"rectal_exam_feces\"].replace({\"absent\":0, \"decreased\":1, \"normal\":2, \"increased\":2})\n",
    "\n",
    "    # Como o objetivo é avaliar se o cavalo sobreviveu, os valores died e euthanized serão tratados indistintamente\n",
    "    curr_df[\"outcome\"] = curr_df[\"outcome\"].replace({\"died\":0, \"euthanized\":0, \"lived\":1})"
   ]
  },
  {
   "cell_type": "code",
   "execution_count": 15,
   "metadata": {},
   "outputs": [],
   "source": [
    "# Criando One Hot Encoding das variáveis categóricas restantes: mucous_membrane, abdomen, abdomo_appearance\n",
    "df = pd.get_dummies(df)\n",
    "df_test = pd.get_dummies(df_test)"
   ]
  },
  {
   "cell_type": "code",
   "execution_count": 20,
   "metadata": {
    "scrolled": true
   },
   "outputs": [
    {
     "name": "stdout",
     "output_type": "stream",
     "text": [
      "As colunas do One Hot Encoding foram criadas para ambos os DataFrames\n"
     ]
    }
   ],
   "source": [
    "# Garantindo a consistência das colunas criadas com One Hot Encoding entre os DataFrames de treino e teste\n",
    "\n",
    "train_cols = df.columns\n",
    "test_cols = df_test.columns\n",
    "\n",
    "if np.all(train_cols == test_cols):\n",
    "    print(\"As colunas do One Hot Encoding foram criadas para ambos os DataFrames\")\n",
    "else:\n",
    "    print(\"Há colunas faltando em algum dos DataFrames\")"
   ]
  },
  {
   "cell_type": "markdown",
   "metadata": {},
   "source": [
    "#### D. Normalização dos dados  <a class=\"anchor\" id=\"3-normalizacao\"></a>"
   ]
  },
  {
   "cell_type": "code",
   "execution_count": 21,
   "metadata": {},
   "outputs": [],
   "source": [
    "df=(df-df.min())/(df.max()-df.min())"
   ]
  },
  {
   "cell_type": "markdown",
   "metadata": {},
   "source": [
    "## 4. Atributos desnecessários  <a class=\"anchor\" id=\"desnecessarios\"></a>"
   ]
  },
  {
   "cell_type": "markdown",
   "metadata": {},
   "source": [
    "A seleção de atributos com maior impacto na saída será feita com base na função [SelectKBest](https://scikit-learn.org/stable/modules/generated/sklearn.feature_selection.SelectKBest.html) do Scikit Learn e na avaliação da correlação entre cada um dos atributos e a variável de saída `outcome`\n",
    "\n",
    "Para o primeiro caso, serão construídas 4 listas de 10 atributos: 1 para cada uma das funções de rankeamento (chi2, f_classif e mutual_info_classif) disponíveis no Scikit Learn e uma considerando um rankeamento conjunto com base nas três funções."
   ]
  },
  {
   "cell_type": "markdown",
   "metadata": {},
   "source": [
    "#### A. Univariate filter methods <a class=\"anchor\" id=\"4-univariate\"></a>"
   ]
  },
  {
   "cell_type": "code",
   "execution_count": 22,
   "metadata": {
    "scrolled": false
   },
   "outputs": [],
   "source": [
    "# Definição da semente para garantia de repetibilidade\n",
    "np.random.seed(100)\n",
    "\n",
    "# Extrai a lista de todas as colunas do DataFrame\n",
    "all_cols = list(df.columns.values)\n",
    "\n",
    "# Remove a coluna de resultado e constrói novos DataFrame X_train e X_test apenas\n",
    "# com as colunas de entrada dos respectivos DataFrames\n",
    "all_cols.remove(\"outcome\")\n",
    "x_cols = all_cols\n",
    "X_train = df[x_cols]\n",
    "X_test = df_test[x_cols]\n",
    "\n",
    "# Constrói novas Series y_train e y_test com as respectivas colunas de saída\n",
    "y_train = df[\"outcome\"].values\n",
    "y_test = df_test[\"outcome\"].values"
   ]
  },
  {
   "cell_type": "code",
   "execution_count": 29,
   "metadata": {},
   "outputs": [],
   "source": [
    "# Utiliza a função SelectKBest do ScikitLearn e constrói um dicionário com o ranking\n",
    "# de atributos para cada score function: chi2, f_classif e mutual_info_classif\n",
    "best_feats = {}\n",
    "all_funcs = {\"chi2\":chi2, \"f_classif\":f_classif, \"mutual_info_classif\": mutual_info_classif}\n",
    "for func_name in all_funcs:\n",
    "    best_features = SelectKBest(score_func=all_funcs[func_name], k=15)\n",
    "    fit = best_features.fit(X_train, y_train)\n",
    "    df_scores = pd.DataFrame(fit.scores_)\n",
    "    df_columns = pd.DataFrame(X_train.columns)\n",
    "    df_features = pd.concat([df_columns,df_scores], axis=1)\n",
    "    df_features.columns = [\"Specs\", f\"Score {func_name}\"]\n",
    "    df_features = df_features.sort_values(f\"Score {func_name}\", ascending=False)\n",
    "    df_features = df_features.reset_index()\n",
    "    best_feats[func_name] = df_features"
   ]
  },
  {
   "cell_type": "code",
   "execution_count": null,
   "metadata": {},
   "outputs": [],
   "source": [
    "# Constrói um novo ranking misto levando em consideração as posições dos\n",
    "# atributos nos 3 ranking gerados anteriormente\n",
    "n_attrs = df.shape[1]-1\n",
    "vals = []\n",
    "for attr in all_cols:\n",
    "    vals.append(0)\n",
    "    for func in best_feats:\n",
    "        curr_df = best_feats[func]\n",
    "        vals[-1] += n_attrs - curr_df[curr_df[\"Specs\"] == attr].index[0]\n",
    "attr_df = pd.DataFrame({\"Columns\":all_cols, \"New ranking\":vals}).sort_values(\"New ranking\", ascending=False)\n",
    "# attr_df"
   ]
  },
  {
   "cell_type": "code",
   "execution_count": 132,
   "metadata": {
    "scrolled": true
   },
   "outputs": [],
   "source": [
    "# Constrói um DataFrame para comparação dos rankings dos atributos em cada\n",
    "# uma das funções e com sua posição no ranking combinado\n",
    "\n",
    "for func in all_funcs:\n",
    "    curr_df = best_feats[func]\n",
    "    classif_pos = []\n",
    "    for attr in attr_df[\"Columns\"]:\n",
    "        classif_pos.append(curr_df[curr_df[\"Specs\"] == attr].index[0])\n",
    "    attr_df[func + \" pos\"] = classif_pos\n",
    "\n",
    "attr_df = attr_df.sort_values(\"New ranking\", ascending=False)\n",
    "# attr_df"
   ]
  },
  {
   "cell_type": "code",
   "execution_count": 153,
   "metadata": {
    "scrolled": false
   },
   "outputs": [],
   "source": [
    "# Constrói um dicionário com os rankeamentos dos atributos\n",
    "\n",
    "relevant_attrs = {\n",
    "    \"all_attrs\": all_cols,\n",
    "    \"combined\": [attr for attr in attr_df[\"Columns\"].iloc[:10]],\n",
    "    \"chi2\": [attr for attr in best_feats[\"chi2\"][\"Specs\"].iloc[:10]],\n",
    "    \"f_classif\": [attr for attr in best_feats[\"f_classif\"][\"Specs\"].iloc[:10]],\n",
    "    \"mutual_info_classif\": [attr for attr in best_feats[\"mutual_info_classif\"][\"Specs\"].iloc[:10]]\n",
    "}\n",
    "# relevant_attrs"
   ]
  },
  {
   "cell_type": "markdown",
   "metadata": {},
   "source": [
    "A construção do ranking combinado, porém, selecionou 9 das 10 colunas previamente selecionadas pela função `f_classif`, conforme pode ser confirmado abaixo. Apenas o atributo `peripheral_pulse` não foi selecionado, porque foi substotuído pelo atributo `nasogastric_reflux`, que seria a 11ª opção pela função citada. \n",
    "\n",
    "Assim, considerou-se desnecessária a análise com o ranking combinado e esse será removido das análises posteriores."
   ]
  },
  {
   "cell_type": "code",
   "execution_count": 154,
   "metadata": {},
   "outputs": [],
   "source": [
    "# O for abaixo serve apenas para demonstrar a similaridade entre os atributos\n",
    "# selecionados com a função f_classif e com o ranking combinado\n",
    "# for attr in relevant_attrs[\"f_classif\"]:\n",
    "#    print(attr, attr in relevant_attrs[\"combined\"])\n",
    "\n",
    "del relevant_attrs[\"combined\"]\n",
    "# relevant_attrs"
   ]
  },
  {
   "cell_type": "markdown",
   "metadata": {},
   "source": [
    "#### B. Análise através de correlação <a class=\"anchor\" id=\"4-correlacao\"></a>"
   ]
  },
  {
   "cell_type": "code",
   "execution_count": 155,
   "metadata": {},
   "outputs": [
    {
     "data": {
      "text/plain": [
       "<matplotlib.axes._subplots.AxesSubplot at 0x1243952d0>"
      ]
     },
     "execution_count": 155,
     "metadata": {},
     "output_type": "execute_result"
    },
    {
     "data": {
      "image/png": "[encoded data removed]",
      "text/plain": [
       "<Figure size 360x576 with 2 Axes>"
      ]
     },
     "metadata": {
      "needs_background": "light"
     },
     "output_type": "display_data"
    }
   ],
   "source": [
    "# Calcula a correlação entre todas as colunas e a coluna de resultado outcome\n",
    "corr = df.corrwith(df[\"outcome\"])\n",
    "\n",
    "# Remove a coluna outcome para melhor visualização\n",
    "corr.drop(\"outcome\", inplace=True)\n",
    "\n",
    "# Ordena os atributos pelo valor absoluto da correlação e \n",
    "# extrai apenas os 10 mais importantes\n",
    "corr_df = pd.concat([corr, np.abs(corr)], axis=1)\n",
    "corr_df.columns = [\"Original values\", \"Absolute values\"]\n",
    "corr_df = corr_df.sort_values(\"Absolute values\", ascending=False)\n",
    "ten_best = corr_df.iloc[:10]\n",
    "ten_best = ten_best[\"Original values\"]\n",
    "\n",
    "# Modifica o tamanho default da imagem para melhor visualização do heatmap\n",
    "plt.figure(figsize = (5,8))\n",
    "\n",
    "# Constrói um heatmap para visualização.\n",
    "# A conversão do valores da coluna em numpy array é necessária para \n",
    "# visualização na vertical através da transposição \n",
    "ten_best_vals = np.array([ten_best.values]).T\n",
    "sns.heatmap(ten_best_vals, yticklabels=ten_best.index, annot=True)"
   ]
  },
  {
   "cell_type": "markdown",
   "metadata": {},
   "source": [
    "É interessante notar que o resultado da seleção através de correlação é idêntico aos valores obtidos com a função de rankeamento `f_classif` conforme pode ser verificado na célula abaixo.\n",
    "\n",
    "Dessa forma, os valores obtidos com a correlação não serão incluídos na lista de atributos."
   ]
  },
  {
   "cell_type": "code",
   "execution_count": 156,
   "metadata": {
    "scrolled": true
   },
   "outputs": [
    {
     "name": "stdout",
     "output_type": "stream",
     "text": [
      "True\n",
      "True\n",
      "True\n",
      "True\n",
      "True\n",
      "True\n",
      "True\n",
      "True\n",
      "True\n",
      "True\n"
     ]
    }
   ],
   "source": [
    "# Compara as listas de atributos relevantes gerada pela função f_classif\n",
    "# com aqueles obtidos através da análise de correlação entre os atributos\n",
    "# e a variável de saída\n",
    "\n",
    "for a, b in zip(relevant_attrs[\"f_classif\"],ten_best.index.values):\n",
    "    print(a == b)\n"
   ]
  },
  {
   "cell_type": "markdown",
   "metadata": {},
   "source": [
    "## 5. Balanceamento <a class=\"anchor\" id=\"balanceamento\"></a>\n",
    "\n",
    "Conforme pode ser visto abaixo, existe um desbalanceio entre as classes 1 (cavalo sobreviveu) e 0 (morte ou eutanásia)."
   ]
  },
  {
   "cell_type": "code",
   "execution_count": 157,
   "metadata": {},
   "outputs": [
    {
     "data": {
      "text/plain": [
       "1.0    178\n",
       "0.0    121\n",
       "Name: outcome, dtype: int64"
      ]
     },
     "execution_count": 157,
     "metadata": {},
     "output_type": "execute_result"
    }
   ],
   "source": [
    "df[\"outcome\"].value_counts()"
   ]
  },
  {
   "cell_type": "markdown",
   "metadata": {},
   "source": [
    "Há diversas alternativas para a solução do problema de balanceamento como **undersampling** e **oversampling** que consistem, respectivamente, em reduzir e aumentar os conjuntos de opções através da remoção ou adição aleatória de elementos pré-existentes.\n",
    "\n",
    "Esse relatório, porém, utilizará o método **SMOTE** (Synthetic Minority Oversampling TEchnique) que consiste em sintetizar elementos da classe minoritária com base nos elementos que já existem."
   ]
  },
  {
   "cell_type": "markdown",
   "metadata": {},
   "source": [
    "<img src=\"smote.png\"/>"
   ]
  },
  {
   "cell_type": "code",
   "execution_count": 158,
   "metadata": {},
   "outputs": [],
   "source": [
    "smote = SMOTE(sampling_strategy='minority')\n",
    "X_sm, y_sm = smote.fit_sample(X.values, y)\n",
    "df_sm = pd.DataFrame(X_sm)\n",
    "df_y = pd.DataFrame(y_sm)\n",
    "df_sm = pd.concat([df_sm, df_y], axis=1)\n",
    "df_sm.columns = all_cols + [\"outcome\"]"
   ]
  },
  {
   "cell_type": "markdown",
   "metadata": {},
   "source": [
    "Visualização dos dados pré e pós SMOTE considerando todos os atributos relevantes"
   ]
  },
  {
   "cell_type": "code",
   "execution_count": 160,
   "metadata": {
    "scrolled": false
   },
   "outputs": [
    {
     "data": {
      "image/png": "[encoded data removed]",
      "text/plain": [
       "<Figure size 1152x576 with 8 Axes>"
      ]
     },
     "metadata": {
      "needs_background": "light"
     },
     "output_type": "display_data"
    }
   ],
   "source": [
    "# Função para plotar os dados em um espaço bidimensional\n",
    "pca = PCA(n_components=2)\n",
    "plt.figure(figsize = (16,8))\n",
    "\n",
    "for i,func in enumerate(relevant_attrs):\n",
    "    plt.subplot(2, 4, i+1)\n",
    "    X_2d = pca.fit_transform(X[relevant_attrs[func]])\n",
    "    plt.scatter(X_2d[y==0,0], X_2d[y==0,1])\n",
    "    plt.scatter(X_2d[y==1,0], X_2d[y==1,1])\n",
    "    plt.title(func)\n",
    "    \n",
    "    plt.subplot(2, 4, i+5)\n",
    "    X_2d = pca.fit_transform(df_sm[relevant_attrs[func]])\n",
    "    plt.scatter(X_2d[y_sm==0,0], X_2d[y_sm==0,1])\n",
    "    plt.scatter(X_2d[y_sm==1,0], X_2d[y_sm==1,1])\n",
    "    plt.title(func + \" pós SMOTE\")\n"
   ]
  },
  {
   "cell_type": "code",
   "execution_count": 161,
   "metadata": {},
   "outputs": [
    {
     "data": {
      "text/plain": [
       "1.0    178\n",
       "0.0    178\n",
       "Name: outcome, dtype: int64"
      ]
     },
     "execution_count": 161,
     "metadata": {},
     "output_type": "execute_result"
    }
   ],
   "source": [
    "df_sm[\"outcome\"].value_counts()"
   ]
  },
  {
   "cell_type": "markdown",
   "metadata": {},
   "source": [
    "## 6. Teste de diferentes modelos <a class=\"anchor\" id=\"modelos\"></a>"
   ]
  },
  {
   "cell_type": "markdown",
   "metadata": {},
   "source": [
    "### A. Decision Tree <a class=\"anchor\" id=\"6-tree\"></a>"
   ]
  },
  {
   "cell_type": "code",
   "execution_count": 315,
   "metadata": {
    "scrolled": true
   },
   "outputs": [],
   "source": [
    "from sklearn import tree\n",
    "\n",
    "# Cria 4 árvores de decisão\n",
    "classifiers = {}\n",
    "for func in relevant_attrs:\n",
    "    clf = tree.DecisionTreeClassifier(random_state=100)\n",
    "    clf.fit(df_sm[relevant_attrs[func]], y_sm)\n",
    "    classifiers[func] = clf"
   ]
  },
  {
   "cell_type": "code",
   "execution_count": 316,
   "metadata": {},
   "outputs": [
    {
     "name": "stdout",
     "output_type": "stream",
     "text": [
      "# all_attrs\n",
      "Accuracy:  0.5056179775280899\n",
      "\n",
      "# chi2\n",
      "Accuracy:  0.7640449438202247\n",
      "\n",
      "# f_classif\n",
      "Accuracy:  0.7078651685393258\n",
      "\n",
      "# mutual_info_classif\n",
      "Accuracy:  0.5730337078651685\n",
      "\n"
     ]
    }
   ],
   "source": [
    "all_preds = {}\n",
    "for func in relevant_attrs:\n",
    "    clf = classifiers[func]\n",
    "    all_preds[func] = None\n",
    "    y_pred =clf.predict(df_test[relevant_attrs[func]])\n",
    "    all_preds[func] = y_pred\n",
    "    print(f\"# {func}\")\n",
    "    print(\"Accuracy: \", accuracy_score(y_test, all_preds[func]))\n",
    "    print()"
   ]
  },
  {
   "cell_type": "code",
   "execution_count": 317,
   "metadata": {},
   "outputs": [
    {
     "data": {
      "image/png": "[encoded data removed]",
      "text/plain": [
       "<Figure size 1152x288 with 8 Axes>"
      ]
     },
     "metadata": {
      "needs_background": "light"
     },
     "output_type": "display_data"
    }
   ],
   "source": [
    "plt.figure(figsize=(16,4))\n",
    "for i,func in enumerate(relevant_attrs):\n",
    "    plt.subplot(1,4,i+1)\n",
    "    sns.heatmap(confusion_matrix(y_test, all_preds[func]), \n",
    "            annot=True,\n",
    "            xticklabels=[\"morreu\", \"viveu\"],\n",
    "            yticklabels=[\"morreu\", \"viveu\"])"
   ]
  },
  {
   "cell_type": "markdown",
   "metadata": {},
   "source": [
    "### B. Random Tree Forest <a class=\"anchor\" id=\"6-rtf\"></a>"
   ]
  },
  {
   "cell_type": "code",
   "execution_count": 378,
   "metadata": {
    "scrolled": true
   },
   "outputs": [
    {
     "name": "stdout",
     "output_type": "stream",
     "text": [
      "38\n",
      "10\n",
      "10\n",
      "10\n"
     ]
    }
   ],
   "source": [
    "from sklearn.ensemble import RandomForestRegressor\n",
    "\n",
    "# Cria 4 árvores de decisão\n",
    "classifiers = {}\n",
    "for func in relevant_attrs:\n",
    "    clf = RandomForestRegressor(n_estimators = 1000, random_state = 100)\n",
    "    clf.fit(df_sm[relevant_attrs[func]], y_sm)\n",
    "    print(len(relevant_attrs[func]))\n",
    "    classifiers[func] = clf"
   ]
  },
  {
   "cell_type": "code",
   "execution_count": 380,
   "metadata": {},
   "outputs": [
    {
     "name": "stdout",
     "output_type": "stream",
     "text": [
      "# all_attrs\n",
      "Accuracy:  0.5842696629213483\n",
      "\n",
      "# chi2\n",
      "Accuracy:  0.7752808988764045\n",
      "\n",
      "# f_classif\n",
      "Accuracy:  0.4157303370786517\n",
      "\n",
      "# mutual_info_classif\n",
      "Accuracy:  0.6292134831460674\n",
      "\n"
     ]
    }
   ],
   "source": [
    "all_preds = {}\n",
    "for func in relevant_attrs:\n",
    "    clf = classifiers[func]\n",
    "    all_preds[func] = None\n",
    "    y_pred = clf.predict(df_test[relevant_attrs[func]])\n",
    "    y_pred[y_pred < 0.5] = 0\n",
    "    y_pred[y_pred >= 0.5] = 1\n",
    "    all_preds[func] = y_pred\n",
    "    print(f\"# {func}\")\n",
    "    print(\"Accuracy: \", accuracy_score(y_test, all_preds[func]))\n",
    "    print()"
   ]
  },
  {
   "cell_type": "code",
   "execution_count": 381,
   "metadata": {},
   "outputs": [
    {
     "data": {
      "image/png": "[encoded data removed]",
      "text/plain": [
       "<Figure size 1152x288 with 8 Axes>"
      ]
     },
     "metadata": {
      "needs_background": "light"
     },
     "output_type": "display_data"
    }
   ],
   "source": [
    "plt.figure(figsize=(16,4))\n",
    "for i,func in enumerate(relevant_attrs):\n",
    "    plt.subplot(1,4,i+1)\n",
    "    sns.heatmap(confusion_matrix(y_test, all_preds[func]), \n",
    "            annot=True,\n",
    "            xticklabels=[\"morreu\", \"viveu\"],\n",
    "            yticklabels=[\"morreu\", \"viveu\"])"
   ]
  },
  {
   "cell_type": "markdown",
   "metadata": {},
   "source": [
    "### C. Support Vector Machine <a class=\"anchor\" id=\"6-svm\"></a>"
   ]
  },
  {
   "cell_type": "code",
   "execution_count": 383,
   "metadata": {},
   "outputs": [
    {
     "name": "stdout",
     "output_type": "stream",
     "text": [
      "Best parameters set found for all_attrs:\n",
      "{'C': 10, 'kernel': 'linear'}\n",
      "Accuracy: 0.7528169014084507\n",
      "\n",
      "              precision    recall  f1-score   support\n",
      "\n",
      "           0       0.42      1.00      0.60        36\n",
      "           1       1.00      0.08      0.14        53\n",
      "\n",
      "    accuracy                           0.45        89\n",
      "   macro avg       0.71      0.54      0.37        89\n",
      "weighted avg       0.77      0.45      0.32        89\n",
      "\n",
      "Best parameters set found for chi2:\n",
      "{'C': 1000, 'gamma': 0.001, 'kernel': 'rbf'}\n",
      "Accuracy: 0.7303990610328638\n",
      "\n",
      "              precision    recall  f1-score   support\n",
      "\n",
      "           0       0.62      0.78      0.69        36\n",
      "           1       0.82      0.68      0.74        53\n",
      "\n",
      "    accuracy                           0.72        89\n",
      "   macro avg       0.72      0.73      0.72        89\n",
      "weighted avg       0.74      0.72      0.72        89\n",
      "\n",
      "Best parameters set found for f_classif:\n",
      "{'C': 1, 'kernel': 'linear'}\n",
      "Accuracy: 0.7669014084507042\n",
      "\n",
      "              precision    recall  f1-score   support\n",
      "\n",
      "           0       0.40      1.00      0.58        36\n",
      "           1       0.00      0.00      0.00        53\n",
      "\n",
      "    accuracy                           0.40        89\n",
      "   macro avg       0.20      0.50      0.29        89\n",
      "weighted avg       0.16      0.40      0.23        89\n",
      "\n"
     ]
    },
    {
     "name": "stderr",
     "output_type": "stream",
     "text": [
      "/usr/local/lib/python3.7/site-packages/sklearn/metrics/_classification.py:1268: UndefinedMetricWarning: Precision and F-score are ill-defined and being set to 0.0 in labels with no predicted samples. Use `zero_division` parameter to control this behavior.\n",
      "  _warn_prf(average, modifier, msg_start, len(result))\n"
     ]
    },
    {
     "name": "stdout",
     "output_type": "stream",
     "text": [
      "Best parameters set found for mutual_info_classif:\n",
      "{'C': 10, 'kernel': 'linear'}\n",
      "Accuracy: 0.7612284820031298\n",
      "\n",
      "              precision    recall  f1-score   support\n",
      "\n",
      "           0       0.40      1.00      0.58        36\n",
      "           1       0.00      0.00      0.00        53\n",
      "\n",
      "    accuracy                           0.40        89\n",
      "   macro avg       0.20      0.50      0.29        89\n",
      "weighted avg       0.16      0.40      0.23        89\n",
      "\n"
     ]
    },
    {
     "name": "stderr",
     "output_type": "stream",
     "text": [
      "/usr/local/lib/python3.7/site-packages/sklearn/metrics/_classification.py:1268: UndefinedMetricWarning: Precision and F-score are ill-defined and being set to 0.0 in labels with no predicted samples. Use `zero_division` parameter to control this behavior.\n",
      "  _warn_prf(average, modifier, msg_start, len(result))\n"
     ]
    }
   ],
   "source": [
    "from sklearn.svm import SVC\n",
    "from sklearn.model_selection import GridSearchCV\n",
    "\n",
    "# Otimização para avaliar os melhores parâmetros para cada SVC\n",
    "tuned_parameters = [{'kernel': ['rbf'], 'gamma': [1e-3, 1e-4], 'C': [1, 10, 100, 1000]},\n",
    "                    {'kernel': ['linear'], 'C': [1, 10, 100, 1000]}]\n",
    "\n",
    "for func in relevant_attrs:\n",
    "    clf = GridSearchCV(SVC(), tuned_parameters, scoring='accuracy')\n",
    "    clf.fit(df_sm[relevant_attrs[func]], y_sm)\n",
    "\n",
    "    print(f\"Best parameters set found for {func}:\")\n",
    "    print(clf.best_params_)\n",
    "    print(f\"Accuracy: {clf.best_score_}\")\n",
    "    print()\n",
    "    \n",
    "    y_pred = clf.predict(df_test[relevant_attrs[func]])\n",
    "    print(classification_report(y_test, y_pred))\n"
   ]
  },
  {
   "cell_type": "markdown",
   "metadata": {},
   "source": [
    "Apesar de obterem boas acurácias no processo de otimização, as seleções de atributo `f_classif` `mutual_info_classif` obtém valores de acurácia muito baixos quando comparados com o conjunto de atributos `chi2` (0,4 e 0,4 vs 0,72)."
   ]
  },
  {
   "cell_type": "code",
   "execution_count": 384,
   "metadata": {},
   "outputs": [
    {
     "name": "stdout",
     "output_type": "stream",
     "text": [
      "Accuracy:  0.7191011235955056\n"
     ]
    }
   ],
   "source": [
    "# Create best classifier\n",
    "clf = SVC(kernel=\"linear\", C=1)\n",
    "clf.fit(df_sm[relevant_attrs[\"chi2\"]], y_sm)\n",
    "y_pred =clf.predict(df_test[relevant_attrs[\"chi2\"]])\n",
    "print(\"Accuracy: \", accuracy_score(y_test, y_pred))"
   ]
  },
  {
   "cell_type": "code",
   "execution_count": 385,
   "metadata": {},
   "outputs": [
    {
     "data": {
      "text/plain": [
       "Text(0.5, 1, 'Matriz de confusão para chi2, C=1, kernel=linear')"
      ]
     },
     "execution_count": 385,
     "metadata": {},
     "output_type": "execute_result"
    },
    {
     "data": {
      "image/png": "[encoded data removed]",
      "text/plain": [
       "<Figure size 432x288 with 2 Axes>"
      ]
     },
     "metadata": {
      "needs_background": "light"
     },
     "output_type": "display_data"
    }
   ],
   "source": [
    "sns.heatmap(confusion_matrix(y_test, y_pred), \n",
    "            annot=True,\n",
    "            xticklabels=[\"morreu\", \"viveu\"],\n",
    "            yticklabels=[\"morreu\", \"viveu\"])\n",
    "plt.title(\"Matriz de confusão para chi2, C=1, kernel=linear\")"
   ]
  },
  {
   "cell_type": "markdown",
   "metadata": {},
   "source": [
    "### D. Rede Neural Artificial <a class=\"anchor\" id=\"6-rna\"></a>"
   ]
  },
  {
   "cell_type": "code",
   "execution_count": 386,
   "metadata": {
    "scrolled": true
   },
   "outputs": [],
   "source": [
    "from sklearn.neural_network import MLPClassifier\n",
    "\n",
    "# Instantiate 4 SVC\n",
    "classifiers = {}\n",
    "for func in relevant_attrs:\n",
    "    clf = MLPClassifier(\n",
    "        hidden_layer_sizes=(100,1000,100),\n",
    "        random_state=100, \n",
    "        max_iter=1000\n",
    "    )\n",
    "    clf.fit(df_sm[relevant_attrs[func]], y_sm)\n",
    "    classifiers[func] = clf"
   ]
  },
  {
   "cell_type": "code",
   "execution_count": 387,
   "metadata": {},
   "outputs": [
    {
     "name": "stdout",
     "output_type": "stream",
     "text": [
      "# all_attrs\n",
      "Accuracy:  0.449438202247191\n",
      "\n",
      "# chi2\n",
      "Accuracy:  0.7528089887640449\n",
      "\n",
      "# f_classif\n",
      "Accuracy:  0.4044943820224719\n",
      "\n",
      "# mutual_info_classif\n",
      "Accuracy:  0.4044943820224719\n",
      "\n"
     ]
    }
   ],
   "source": [
    "all_preds = {}\n",
    "for func in relevant_attrs:\n",
    "    clf = classifiers[func]\n",
    "    all_preds[func] = None\n",
    "    y_pred =clf.predict(df_test[relevant_attrs[func]])\n",
    "    all_preds[func] = y_pred\n",
    "    print(f\"# {func}\")\n",
    "    print(\"Accuracy: \", accuracy_score(y_test, all_preds[func]))\n",
    "    print()"
   ]
  },
  {
   "cell_type": "code",
   "execution_count": 388,
   "metadata": {},
   "outputs": [
    {
     "data": {
      "image/png": "[encoded data removed]",
      "text/plain": [
       "<Figure size 1152x288 with 8 Axes>"
      ]
     },
     "metadata": {
      "needs_background": "light"
     },
     "output_type": "display_data"
    }
   ],
   "source": [
    "plt.figure(figsize=(16,4))\n",
    "for i,func in enumerate(relevant_attrs):\n",
    "    plt.subplot(1,4,i+1)\n",
    "    sns.heatmap(confusion_matrix(y_test, all_preds[func]), \n",
    "            annot=True,\n",
    "            xticklabels=[\"morreu\", \"viveu\"],\n",
    "            yticklabels=[\"morreu\", \"viveu\"])"
   ]
  },
  {
   "cell_type": "markdown",
   "metadata": {},
   "source": [
    "### E. KNN <a class=\"anchor\" id=\"6-knn\"></a>"
   ]
  },
  {
   "cell_type": "code",
   "execution_count": 389,
   "metadata": {
    "scrolled": true
   },
   "outputs": [],
   "source": [
    "from sklearn.neighbors import KNeighborsClassifier\n",
    "\n",
    "# Cria 4 classificadores\n",
    "classifiers = {}\n",
    "for func in relevant_attrs:\n",
    "    clf = KNeighborsClassifier(n_neighbors=3)\n",
    "    clf.fit(df_sm[relevant_attrs[func]], y_sm)\n",
    "    classifiers[func] = clf"
   ]
  },
  {
   "cell_type": "code",
   "execution_count": 390,
   "metadata": {},
   "outputs": [
    {
     "name": "stdout",
     "output_type": "stream",
     "text": [
      "# all_attrs\n",
      "Accuracy:  0.4606741573033708\n",
      "\n",
      "# chi2\n",
      "Accuracy:  0.7752808988764045\n",
      "\n",
      "# f_classif\n",
      "Accuracy:  0.4044943820224719\n",
      "\n",
      "# mutual_info_classif\n",
      "Accuracy:  0.42696629213483145\n",
      "\n"
     ]
    }
   ],
   "source": [
    "all_preds = {}\n",
    "for func in relevant_attrs:\n",
    "    clf = classifiers[func]\n",
    "    all_preds[func] = None\n",
    "    y_pred =clf.predict(df_test[relevant_attrs[func]])\n",
    "    all_preds[func] = y_pred\n",
    "    print(f\"# {func}\")\n",
    "    print(\"Accuracy: \", accuracy_score(y_test, all_preds[func]))\n",
    "    print()"
   ]
  },
  {
   "cell_type": "code",
   "execution_count": 391,
   "metadata": {},
   "outputs": [
    {
     "data": {
      "image/png": "[encoded data removed]",
      "text/plain": [
       "<Figure size 1152x288 with 8 Axes>"
      ]
     },
     "metadata": {
      "needs_background": "light"
     },
     "output_type": "display_data"
    }
   ],
   "source": [
    "plt.figure(figsize=(16,4))\n",
    "for i,func in enumerate(relevant_attrs):\n",
    "    plt.subplot(1,4,i+1)\n",
    "    sns.heatmap(confusion_matrix(y_test, all_preds[func]), \n",
    "            annot=True,\n",
    "            xticklabels=[\"morreu\", \"viveu\"],\n",
    "            yticklabels=[\"morreu\", \"viveu\"])"
   ]
  },
  {
   "cell_type": "markdown",
   "metadata": {},
   "source": [
    "#### F. Logistic regression"
   ]
  },
  {
   "cell_type": "code",
   "execution_count": 392,
   "metadata": {
    "scrolled": true
   },
   "outputs": [],
   "source": [
    "from sklearn.linear_model import LogisticRegression\n",
    "\n",
    "\n",
    "# Cria 4 classificadores\n",
    "classifiers = {}\n",
    "for func in relevant_attrs:\n",
    "    clf = LogisticRegression(random_state=100)\n",
    "    clf.fit(df_sm[relevant_attrs[func]], y_sm)\n",
    "    classifiers[func] = clf"
   ]
  },
  {
   "cell_type": "code",
   "execution_count": 393,
   "metadata": {},
   "outputs": [
    {
     "name": "stdout",
     "output_type": "stream",
     "text": [
      "# all_attrs\n",
      "Accuracy:  0.4606741573033708\n",
      "\n",
      "# chi2\n",
      "Accuracy:  0.7415730337078652\n",
      "\n",
      "# f_classif\n",
      "Accuracy:  0.4044943820224719\n",
      "\n",
      "# mutual_info_classif\n",
      "Accuracy:  0.4044943820224719\n",
      "\n"
     ]
    }
   ],
   "source": [
    "all_preds = {}\n",
    "for func in relevant_attrs:\n",
    "    clf = classifiers[func]\n",
    "    all_preds[func] = None\n",
    "    y_pred =clf.predict(df_test[relevant_attrs[func]])\n",
    "    all_preds[func] = y_pred\n",
    "    print(f\"# {func}\")\n",
    "    print(\"Accuracy: \", accuracy_score(y_test, all_preds[func]))\n",
    "    print()"
   ]
  },
  {
   "cell_type": "code",
   "execution_count": 394,
   "metadata": {},
   "outputs": [
    {
     "data": {
      "image/png": "[encoded data removed]",
      "text/plain": [
       "<Figure size 1152x288 with 8 Axes>"
      ]
     },
     "metadata": {
      "needs_background": "light"
     },
     "output_type": "display_data"
    }
   ],
   "source": [
    "plt.figure(figsize=(16,4))\n",
    "for i,func in enumerate(relevant_attrs):\n",
    "    plt.subplot(1,4,i+1)\n",
    "    sns.heatmap(confusion_matrix(y_test, all_preds[func]), \n",
    "            annot=True,\n",
    "            xticklabels=[\"morreu\", \"viveu\"],\n",
    "            yticklabels=[\"morreu\", \"viveu\"])"
   ]
  }
 ],
 "metadata": {
  "kernelspec": {
   "display_name": "Python 3",
   "language": "python",
   "name": "python3"
  },
  "language_info": {
   "codemirror_mode": {
    "name": "ipython",
    "version": 3
   },
   "file_extension": ".py",
   "mimetype": "text/x-python",
   "name": "python",
   "nbconvert_exporter": "python",
   "pygments_lexer": "ipython3",
   "version": "3.6.4"
  }
 },
 "nbformat": 4,
 "nbformat_minor": 2
}
